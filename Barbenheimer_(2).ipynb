{
  "cells": [
    {
      "cell_type": "code",
      "execution_count": 69,
      "metadata": {
        "colab": {
          "base_uri": "https://localhost:8080/"
        },
        "id": "U3iLUjH-QZnH",
        "outputId": "df4ec15a-5530-4d08-e861-e8ca18e81db4"
      },
      "outputs": [
        {
          "output_type": "stream",
          "name": "stdout",
          "text": [
            "Requirement already satisfied: otter-grader in /usr/local/lib/python3.10/dist-packages (5.0.2)\n",
            "Requirement already satisfied: dill in /usr/local/lib/python3.10/dist-packages (from otter-grader) (0.3.7)\n",
            "Requirement already satisfied: jinja2 in /usr/local/lib/python3.10/dist-packages (from otter-grader) (3.1.2)\n",
            "Requirement already satisfied: nbformat in /usr/local/lib/python3.10/dist-packages (from otter-grader) (5.9.1)\n",
            "Requirement already satisfied: pandas in /usr/local/lib/python3.10/dist-packages (from otter-grader) (1.5.3)\n",
            "Requirement already satisfied: PyYAML in /usr/local/lib/python3.10/dist-packages (from otter-grader) (6.0.1)\n",
            "Requirement already satisfied: python-on-whales in /usr/local/lib/python3.10/dist-packages (from otter-grader) (0.64.0)\n",
            "Requirement already satisfied: requests in /usr/local/lib/python3.10/dist-packages (from otter-grader) (2.27.1)\n",
            "Requirement already satisfied: wrapt in /usr/local/lib/python3.10/dist-packages (from otter-grader) (1.14.1)\n",
            "Requirement already satisfied: jupytext in /usr/local/lib/python3.10/dist-packages (from otter-grader) (1.15.0)\n",
            "Requirement already satisfied: click in /usr/local/lib/python3.10/dist-packages (from otter-grader) (8.1.6)\n",
            "Requirement already satisfied: fica>=0.2.0 in /usr/local/lib/python3.10/dist-packages (from otter-grader) (0.2.2)\n",
            "Requirement already satisfied: ipython in /usr/local/lib/python3.10/dist-packages (from otter-grader) (7.34.0)\n",
            "Requirement already satisfied: astunparse in /usr/local/lib/python3.10/dist-packages (from otter-grader) (1.6.3)\n",
            "Requirement already satisfied: nbconvert in /usr/local/lib/python3.10/dist-packages (from otter-grader) (6.5.4)\n",
            "Requirement already satisfied: docutils in /usr/local/lib/python3.10/dist-packages (from fica>=0.2.0->otter-grader) (0.18.1)\n",
            "Requirement already satisfied: sphinx in /usr/local/lib/python3.10/dist-packages (from fica>=0.2.0->otter-grader) (5.0.2)\n",
            "Requirement already satisfied: wheel<1.0,>=0.23.0 in /usr/local/lib/python3.10/dist-packages (from astunparse->otter-grader) (0.41.0)\n",
            "Requirement already satisfied: six<2.0,>=1.6.1 in /usr/local/lib/python3.10/dist-packages (from astunparse->otter-grader) (1.16.0)\n",
            "Requirement already satisfied: setuptools>=18.5 in /usr/local/lib/python3.10/dist-packages (from ipython->otter-grader) (67.7.2)\n",
            "Requirement already satisfied: jedi>=0.16 in /usr/local/lib/python3.10/dist-packages (from ipython->otter-grader) (0.19.0)\n",
            "Requirement already satisfied: decorator in /usr/local/lib/python3.10/dist-packages (from ipython->otter-grader) (4.4.2)\n",
            "Requirement already satisfied: pickleshare in /usr/local/lib/python3.10/dist-packages (from ipython->otter-grader) (0.7.5)\n",
            "Requirement already satisfied: traitlets>=4.2 in /usr/local/lib/python3.10/dist-packages (from ipython->otter-grader) (5.7.1)\n",
            "Requirement already satisfied: prompt-toolkit!=3.0.0,!=3.0.1,<3.1.0,>=2.0.0 in /usr/local/lib/python3.10/dist-packages (from ipython->otter-grader) (3.0.39)\n",
            "Requirement already satisfied: pygments in /usr/local/lib/python3.10/dist-packages (from ipython->otter-grader) (2.14.0)\n",
            "Requirement already satisfied: backcall in /usr/local/lib/python3.10/dist-packages (from ipython->otter-grader) (0.2.0)\n",
            "Requirement already satisfied: matplotlib-inline in /usr/local/lib/python3.10/dist-packages (from ipython->otter-grader) (0.1.6)\n",
            "Requirement already satisfied: pexpect>4.3 in /usr/local/lib/python3.10/dist-packages (from ipython->otter-grader) (4.8.0)\n",
            "Requirement already satisfied: MarkupSafe>=2.0 in /usr/local/lib/python3.10/dist-packages (from jinja2->otter-grader) (2.1.3)\n",
            "Requirement already satisfied: toml in /usr/local/lib/python3.10/dist-packages (from jupytext->otter-grader) (0.10.2)\n",
            "Requirement already satisfied: markdown-it-py>=1.0.0 in /usr/local/lib/python3.10/dist-packages (from jupytext->otter-grader) (3.0.0)\n",
            "Requirement already satisfied: mdit-py-plugins in /usr/local/lib/python3.10/dist-packages (from jupytext->otter-grader) (0.4.0)\n",
            "Requirement already satisfied: lxml in /usr/local/lib/python3.10/dist-packages (from nbconvert->otter-grader) (4.9.3)\n",
            "Requirement already satisfied: beautifulsoup4 in /usr/local/lib/python3.10/dist-packages (from nbconvert->otter-grader) (4.11.2)\n",
            "Requirement already satisfied: bleach in /usr/local/lib/python3.10/dist-packages (from nbconvert->otter-grader) (6.0.0)\n",
            "Requirement already satisfied: defusedxml in /usr/local/lib/python3.10/dist-packages (from nbconvert->otter-grader) (0.7.1)\n",
            "Requirement already satisfied: entrypoints>=0.2.2 in /usr/local/lib/python3.10/dist-packages (from nbconvert->otter-grader) (0.4)\n",
            "Requirement already satisfied: jupyter-core>=4.7 in /usr/local/lib/python3.10/dist-packages (from nbconvert->otter-grader) (5.3.1)\n",
            "Requirement already satisfied: jupyterlab-pygments in /usr/local/lib/python3.10/dist-packages (from nbconvert->otter-grader) (0.2.2)\n",
            "Requirement already satisfied: mistune<2,>=0.8.1 in /usr/local/lib/python3.10/dist-packages (from nbconvert->otter-grader) (0.8.4)\n",
            "Requirement already satisfied: nbclient>=0.5.0 in /usr/local/lib/python3.10/dist-packages (from nbconvert->otter-grader) (0.8.0)\n",
            "Requirement already satisfied: packaging in /usr/local/lib/python3.10/dist-packages (from nbconvert->otter-grader) (23.1)\n",
            "Requirement already satisfied: pandocfilters>=1.4.1 in /usr/local/lib/python3.10/dist-packages (from nbconvert->otter-grader) (1.5.0)\n",
            "Requirement already satisfied: tinycss2 in /usr/local/lib/python3.10/dist-packages (from nbconvert->otter-grader) (1.2.1)\n",
            "Requirement already satisfied: fastjsonschema in /usr/local/lib/python3.10/dist-packages (from nbformat->otter-grader) (2.18.0)\n",
            "Requirement already satisfied: jsonschema>=2.6 in /usr/local/lib/python3.10/dist-packages (from nbformat->otter-grader) (4.3.3)\n",
            "Requirement already satisfied: python-dateutil>=2.8.1 in /usr/local/lib/python3.10/dist-packages (from pandas->otter-grader) (2.8.2)\n",
            "Requirement already satisfied: pytz>=2020.1 in /usr/local/lib/python3.10/dist-packages (from pandas->otter-grader) (2022.7.1)\n",
            "Requirement already satisfied: numpy>=1.21.0 in /usr/local/lib/python3.10/dist-packages (from pandas->otter-grader) (1.22.4)\n",
            "Requirement already satisfied: pydantic!=2.0.*,<3,>=1.5 in /usr/local/lib/python3.10/dist-packages (from python-on-whales->otter-grader) (1.10.12)\n",
            "Requirement already satisfied: tqdm in /usr/local/lib/python3.10/dist-packages (from python-on-whales->otter-grader) (4.65.0)\n",
            "Requirement already satisfied: typer>=0.4.1 in /usr/local/lib/python3.10/dist-packages (from python-on-whales->otter-grader) (0.9.0)\n",
            "Requirement already satisfied: typing-extensions in /usr/local/lib/python3.10/dist-packages (from python-on-whales->otter-grader) (4.7.1)\n",
            "Requirement already satisfied: urllib3<1.27,>=1.21.1 in /usr/local/lib/python3.10/dist-packages (from requests->otter-grader) (1.26.16)\n",
            "Requirement already satisfied: certifi>=2017.4.17 in /usr/local/lib/python3.10/dist-packages (from requests->otter-grader) (2023.7.22)\n",
            "Requirement already satisfied: charset-normalizer~=2.0.0 in /usr/local/lib/python3.10/dist-packages (from requests->otter-grader) (2.0.12)\n",
            "Requirement already satisfied: idna<4,>=2.5 in /usr/local/lib/python3.10/dist-packages (from requests->otter-grader) (3.4)\n",
            "Requirement already satisfied: parso<0.9.0,>=0.8.3 in /usr/local/lib/python3.10/dist-packages (from jedi>=0.16->ipython->otter-grader) (0.8.3)\n",
            "Requirement already satisfied: attrs>=17.4.0 in /usr/local/lib/python3.10/dist-packages (from jsonschema>=2.6->nbformat->otter-grader) (23.1.0)\n",
            "Requirement already satisfied: pyrsistent!=0.17.0,!=0.17.1,!=0.17.2,>=0.14.0 in /usr/local/lib/python3.10/dist-packages (from jsonschema>=2.6->nbformat->otter-grader) (0.19.3)\n",
            "Requirement already satisfied: platformdirs>=2.5 in /usr/local/lib/python3.10/dist-packages (from jupyter-core>=4.7->nbconvert->otter-grader) (3.9.1)\n",
            "Requirement already satisfied: mdurl~=0.1 in /usr/local/lib/python3.10/dist-packages (from markdown-it-py>=1.0.0->jupytext->otter-grader) (0.1.2)\n",
            "Requirement already satisfied: jupyter-client>=6.1.12 in /usr/local/lib/python3.10/dist-packages (from nbclient>=0.5.0->nbconvert->otter-grader) (6.1.12)\n",
            "Requirement already satisfied: ptyprocess>=0.5 in /usr/local/lib/python3.10/dist-packages (from pexpect>4.3->ipython->otter-grader) (0.7.0)\n",
            "Requirement already satisfied: wcwidth in /usr/local/lib/python3.10/dist-packages (from prompt-toolkit!=3.0.0,!=3.0.1,<3.1.0,>=2.0.0->ipython->otter-grader) (0.2.6)\n",
            "Requirement already satisfied: soupsieve>1.2 in /usr/local/lib/python3.10/dist-packages (from beautifulsoup4->nbconvert->otter-grader) (2.4.1)\n",
            "Requirement already satisfied: webencodings in /usr/local/lib/python3.10/dist-packages (from bleach->nbconvert->otter-grader) (0.5.1)\n",
            "Requirement already satisfied: sphinxcontrib-applehelp in /usr/local/lib/python3.10/dist-packages (from sphinx->fica>=0.2.0->otter-grader) (1.0.4)\n",
            "Requirement already satisfied: sphinxcontrib-devhelp in /usr/local/lib/python3.10/dist-packages (from sphinx->fica>=0.2.0->otter-grader) (1.0.2)\n",
            "Requirement already satisfied: sphinxcontrib-jsmath in /usr/local/lib/python3.10/dist-packages (from sphinx->fica>=0.2.0->otter-grader) (1.0.1)\n",
            "Requirement already satisfied: sphinxcontrib-htmlhelp>=2.0.0 in /usr/local/lib/python3.10/dist-packages (from sphinx->fica>=0.2.0->otter-grader) (2.0.1)\n",
            "Requirement already satisfied: sphinxcontrib-serializinghtml>=1.1.5 in /usr/local/lib/python3.10/dist-packages (from sphinx->fica>=0.2.0->otter-grader) (1.1.5)\n",
            "Requirement already satisfied: sphinxcontrib-qthelp in /usr/local/lib/python3.10/dist-packages (from sphinx->fica>=0.2.0->otter-grader) (1.0.3)\n",
            "Requirement already satisfied: snowballstemmer>=1.1 in /usr/local/lib/python3.10/dist-packages (from sphinx->fica>=0.2.0->otter-grader) (2.2.0)\n",
            "Requirement already satisfied: babel>=1.3 in /usr/local/lib/python3.10/dist-packages (from sphinx->fica>=0.2.0->otter-grader) (2.12.1)\n",
            "Requirement already satisfied: alabaster<0.8,>=0.7 in /usr/local/lib/python3.10/dist-packages (from sphinx->fica>=0.2.0->otter-grader) (0.7.13)\n",
            "Requirement already satisfied: imagesize in /usr/local/lib/python3.10/dist-packages (from sphinx->fica>=0.2.0->otter-grader) (1.4.1)\n",
            "Requirement already satisfied: pyzmq>=13 in /usr/local/lib/python3.10/dist-packages (from jupyter-client>=6.1.12->nbclient>=0.5.0->nbconvert->otter-grader) (23.2.1)\n",
            "Requirement already satisfied: tornado>=4.1 in /usr/local/lib/python3.10/dist-packages (from jupyter-client>=6.1.12->nbclient>=0.5.0->nbconvert->otter-grader) (6.3.1)\n",
            "\u001b[K\u001b[?25hnpx: installed 1 in 1.147s\n",
            "\u001b[31m! destination directory is not empty, aborting. Use --force to override\u001b[39m\n"
          ]
        }
      ],
      "source": [
        "!pip install otter-grader\n",
        "!npx degit TimJackman/CS237-Summer2-2023-Programming-Files/hw3/tests tests"
      ]
    },
    {
      "cell_type": "code",
      "execution_count": 70,
      "metadata": {
        "deletable": false,
        "editable": false,
        "id": "pUBp3m60QZnJ"
      },
      "outputs": [],
      "source": [
        "# Initialize Otter\n",
        "import otter\n",
        "grader = otter.Notebook(colab=True)"
      ]
    },
    {
      "cell_type": "markdown",
      "metadata": {
        "id": "hTNMgHcLQZnK"
      },
      "source": [
        "# CS237 - Summer 2023 - Programming Assignment 3\n",
        "## Due Thursday, August 3<sup>rd</sup> at midnight (1 minute after 11:59pm) in Gradescope\n",
        "\n",
        "In this programming assignment, you will be numerically estimating the expectation for a random variable.\n",
        "\n",
        "Submit your programming assignment by filling in this notebook with your solutions. Write all your code in this file, **be sure to click on Runtime-> Run all and verify that everything works as you intended**.\n",
        "\n",
        "Download the `.ipynb` file and upload it to Gradescope.\n",
        "\n",
        "**<font color='red'>File->Download->Download .ipynb</font>**\n",
        "\n",
        "### Notes:\n",
        "* **<font color='magenta'>Do not create new cells</font>**\n",
        "* **<font color='green'>Do not delete existing cells</font>**\n",
        "* **<font color='blue'>Write your solution in the cells assigned with #INSERT YOUR CODE HERE#</font>**\n",
        "* You must download the .ipynb file and submit it to Gradescope. Any other kind of file format will not be acceptable by the autograder.\n",
        "* Follow these principles:\n",
        " * **Correctness**: your code should be free of error. Debug it as many times as possible.\n",
        " * **Clarity**: write high-quality comments, functions, and variable naming\n",
        " * **Simplicity**: write your solution in the assigned cells, don't create new cells or reorder them.\n",
        " * **Completeness**: the solution to all problems must be included in one Python notebook, and no function should be blank.\n",
        " * **Authenticity**, since we assume that you posted your code written by you.\n",
        "\n",
        "# Barbenheimer"
      ]
    },
    {
      "cell_type": "markdown",
      "metadata": {
        "id": "CX74PDr_ft_x"
      },
      "source": [
        "Due to the [Barbenheimer](https://en.wikipedia.org/wiki/Barbenheimer) phenomenom, movie theater operators are interested in changing their pricing structure for upcoming films that are popular on social media. In order to maximize their profits they wish to charge based on how long ago the last ticket was bought. Their thinking is that if a lot of tickets are being sold in a short time then there must be a lot of demand for the movie. Since there is a fixed supply of seats, then they can increase their prices.\n",
        "    \n",
        "A screen has some number of seats *n* which they start selling up to *m* days in advance. Under a traditional movie theater ticket pricing scheme, each seat is sold for a fixed cost *c*. The new pricing scheme will use the following function:\n",
        "\n",
        "$$price(i) = \\begin{cases} c&\\text{for } i = 0\\\\ c\\cdot \\frac{1}{50(t_i - t_{i-1})} &\\text{for } i = 1, 2, \\ldots, n-1\\end{cases}$$\n",
        "\n",
        "where $t_i \\in (0,m]$ is the time the i-th ticket was bought.\n",
        "\n",
        "You've been hired by AMC Theaters to analyze the expected revenue this new scheme will bring in."
      ]
    },
    {
      "cell_type": "markdown",
      "metadata": {
        "id": "fachMf-ihToi"
      },
      "source": [
        "\n",
        "\n",
        "---\n",
        "\n"
      ]
    },
    {
      "cell_type": "code",
      "execution_count": 71,
      "metadata": {
        "id": "64l9KSlBeUFM"
      },
      "outputs": [],
      "source": [
        "# Import statements, do not edit\n",
        "import numpy as np #The library we will use to generate randomness"
      ]
    },
    {
      "cell_type": "markdown",
      "metadata": {
        "id": "OO32xFgZhjbG"
      },
      "source": [
        "First let us write a function computeRevenue that takes in a **sorted** list of times tickets were bought and outputs the total revenue that the new scheme would bring in. Your function should return 0 if the list is empty. You can assume that two tickets are not sold at the same time."
      ]
    },
    {
      "cell_type": "code",
      "execution_count": 72,
      "metadata": {
        "id": "h0P9Fs9IhiVM",
        "tags": []
      },
      "outputs": [],
      "source": [
        "# Computes the revenue the new pricing scheme would bring in\n",
        "# Inputs:\n",
        "#   ticketTimes - a SORTED list of times tickets were bought\n",
        "#   basePrice - the basic price of a ticket under the old scheme (i.e. c)\n",
        "def computeRevenue(ticketTimes, basePrice):\n",
        "  revenue = 0\n",
        "  if len(ticketTimes) == 0:\n",
        "    return 0\n",
        "  else:\n",
        "    # 1st ticket is sold for base price\n",
        "    revenue += basePrice\n",
        "    for i in range(1, len(ticketTimes)):\n",
        "      revenue += basePrice / (50 * (ticketTimes[i] - ticketTimes[i-1]))\n",
        "  return revenue\n"
      ]
    },
    {
      "cell_type": "code",
      "execution_count": 73,
      "metadata": {
        "deletable": false,
        "editable": false,
        "colab": {
          "base_uri": "https://localhost:8080/",
          "height": 46
        },
        "id": "qa_p-5viQZnb",
        "outputId": "ecaaf4d9-31a0-40c3-d05e-bfaf29ad8774"
      },
      "outputs": [
        {
          "output_type": "execute_result",
          "data": {
            "text/plain": [
              "computeRevenue results: All test cases passed!"
            ],
            "text/html": [
              "<p><strong><pre style='display: inline;'>computeRevenue</pre></strong> passed! 🚀</p>"
            ]
          },
          "metadata": {},
          "execution_count": 73
        }
      ],
      "source": [
        "grader.check(\"computeRevenue\")"
      ]
    },
    {
      "cell_type": "markdown",
      "metadata": {
        "id": "AafVHPOji1qS"
      },
      "source": [
        "You decide to model the time tickets are sold as uniformly random samples from $(0,m]$. Write a function which returns a **sorted** list of times tickets were bought. Use the supplied rng generator to generate random samples."
      ]
    },
    {
      "cell_type": "code",
      "execution_count": 74,
      "metadata": {
        "id": "EnKYpg_ViKt_",
        "tags": []
      },
      "outputs": [],
      "source": [
        "# Generates UNIFORMLY random times that tickets are sold\n",
        "# Inputs:\n",
        "#   seats - the number of seats at the screen (i.e. n)\n",
        "#   days - the number of days in advance tickets are sold (i.e. m)\n",
        "#   rng - the random number generator to use to generate uniformly times\n",
        "def generateTicketSamples(seats, days, rng = np.random.default_rng(None)):\n",
        "  ticketTimes = None\n",
        "  # Create random times between th range (0,m] for every seat\n",
        "  ticketTimes = rng.uniform(0, days, size=seats)\n",
        "  #sort the times\n",
        "  ticketTimes.sort()\n",
        "\n",
        "  return ticketTimes"
      ]
    },
    {
      "cell_type": "code",
      "execution_count": 75,
      "metadata": {
        "deletable": false,
        "editable": false,
        "colab": {
          "base_uri": "https://localhost:8080/",
          "height": 46
        },
        "id": "mmysicY7QZnc",
        "outputId": "f96aa05c-6d29-4202-908e-f14e76a3d8f9"
      },
      "outputs": [
        {
          "output_type": "execute_result",
          "data": {
            "text/plain": [
              "generateTicketSamples results: All test cases passed!"
            ],
            "text/html": [
              "<p><strong><pre style='display: inline;'>generateTicketSamples</pre></strong> passed! 🍀</p>"
            ]
          },
          "metadata": {},
          "execution_count": 75
        }
      ],
      "source": [
        "grader.check(\"generateTicketSamples\")"
      ]
    },
    {
      "cell_type": "markdown",
      "metadata": {
        "id": "qPMA70LMjK22"
      },
      "source": [
        "Now create a function which simulates selling out a screen multiple times and returns the average revenue over all the runs."
      ]
    },
    {
      "cell_type": "code",
      "execution_count": 76,
      "metadata": {
        "id": "d-EX4Uc2jJ37",
        "tags": []
      },
      "outputs": [],
      "source": [
        "def estimateExpectedRevenue(runs, seats, days, basePrice, seed=None):\n",
        "  totalRevenue = 0\n",
        "  expectedRevenue = 0\n",
        "  rng = np.random.default_rng(seed)\n",
        "  for _ in range(runs):\n",
        "    #Generate sample of ticket sales\n",
        "    ticketTimes = generateTicketSamples(seats, days, rng)\n",
        "    #Compute the revenue for it\n",
        "    revenue = computeRevenue(ticketTimes, basePrice)\n",
        "    #add to total rev\n",
        "    totalRevenue += revenue\n",
        "\n",
        "  #Compute the avg rev over all runs\n",
        "  expectedRevenue = totalRevenue / runs\n",
        "  return expectedRevenue"
      ]
    },
    {
      "cell_type": "code",
      "execution_count": 77,
      "metadata": {
        "deletable": false,
        "editable": false,
        "colab": {
          "base_uri": "https://localhost:8080/",
          "height": 46
        },
        "id": "KpudKdX9QZnd",
        "outputId": "1b6a84c7-03ea-47b5-8862-289131038877"
      },
      "outputs": [
        {
          "output_type": "execute_result",
          "data": {
            "text/plain": [
              "estimateExpectedRevenue results: All test cases passed!"
            ],
            "text/html": [
              "<p><strong><pre style='display: inline;'>estimateExpectedRevenue</pre></strong> passed! 🙌</p>"
            ]
          },
          "metadata": {},
          "execution_count": 77
        }
      ],
      "source": [
        "grader.check(\"estimateExpectedRevenue\")"
      ]
    },
    {
      "cell_type": "markdown",
      "metadata": {
        "id": "AE1DM0JjQZnd"
      },
      "source": [
        "AMC South Bay Center 12 here in Boston has a Dolby Cinema Screen which seats 189 people. A ticket currently costs $21 and opening night tickets for expected hits like Barbie and Oppenheimer are usually are sold 31 days in advance. Under the current pricing scheme, how much revenue will completely selling out the screen bring in?"
      ]
    },
    {
      "cell_type": "code",
      "execution_count": 78,
      "metadata": {
        "tags": [],
        "id": "ht28chc8QZnd"
      },
      "outputs": [],
      "source": [
        "originalRevenue = 189 * 21"
      ]
    },
    {
      "cell_type": "markdown",
      "metadata": {
        "id": "fJIyeLzbQZne"
      },
      "source": [
        "Using the functions that you've written, simulate selling out the theater 1,000,000 times under the new pricing scheme. What is the expected revenue that the screen will bring in? Simulate this in a call to the cell below and then copy the output as a string in the cell below. Be aware this may take a few minutes to simulate."
      ]
    },
    {
      "cell_type": "code",
      "execution_count": 79,
      "metadata": {
        "tags": [],
        "colab": {
          "base_uri": "https://localhost:8080/"
        },
        "id": "JBFDle8SQZne",
        "outputId": "6d6f0590-fc9b-4ee6-8c3c-38e23901444f"
      },
      "outputs": [
        {
          "output_type": "stream",
          "name": "stdout",
          "text": [
            "7939.2535045080995\n"
          ]
        }
      ],
      "source": [
        "# Write code to simulate the above scenario here\n",
        "#simulate the scenario and get the expected rev\n",
        "#expectedRevenue = estimateExpectedRevenue(runs=1000000, seats=189, days=31, basePrice=21)\n",
        "#print(expectedRevenue)"
      ]
    },
    {
      "cell_type": "code",
      "execution_count": 82,
      "metadata": {
        "tags": [],
        "id": "Ghe1nW27QZne"
      },
      "outputs": [],
      "source": [
        "newRevenue = 7939.2535045080995"
      ]
    },
    {
      "cell_type": "code",
      "execution_count": 81,
      "metadata": {
        "deletable": false,
        "editable": false,
        "colab": {
          "base_uri": "https://localhost:8080/",
          "height": 46
        },
        "id": "bD8TBDmiQZne",
        "outputId": "955025de-5c5c-4e99-df54-24f8759f6cff"
      },
      "outputs": [
        {
          "output_type": "execute_result",
          "data": {
            "text/plain": [
              "specificSimulation results: All test cases passed!"
            ],
            "text/html": [
              "<p><strong><pre style='display: inline;'>specificSimulation</pre></strong> passed! ✨</p>"
            ]
          },
          "metadata": {},
          "execution_count": 81
        }
      ],
      "source": [
        "grader.check(\"specificSimulation\")"
      ]
    },
    {
      "cell_type": "markdown",
      "metadata": {
        "id": "GXzd-3VJQZnf"
      },
      "source": [
        "<!-- BEGIN QUESTION -->\n",
        "\n",
        "In a few sentences (4 sentences max), respond to the following question in the Markdown cell below.\n",
        "\n",
        "Do you think this model is a good representation of the described scenario? What flaws do you see in our assumptions? How could this be improved?"
      ]
    },
    {
      "cell_type": "markdown",
      "metadata": {
        "id": "Og4zwg9oQZnf"
      },
      "source": [
        "I think that its a decent starting point but it doesnt entirely get the complexities of real world ticket sales. For example it assumes that all tickets cost the same whereas in the real world prices often fluctuate based a multitude of factors. Also it doesnt really account for things like holidays/special events that could affect the sales. This could be improved by using a dynamic pricing strategy and also it could use historical data to simulate real customer behaviors."
      ]
    },
    {
      "cell_type": "markdown",
      "metadata": {
        "id": "J2oWNRVTQZnf"
      },
      "source": [
        "<!-- END QUESTION -->\n",
        "\n"
      ]
    }
  ],
  "metadata": {
    "colab": {
      "provenance": []
    },
    "kernelspec": {
      "display_name": "Python 3",
      "language": "python",
      "name": "python3"
    },
    "language_info": {
      "codemirror_mode": {
        "name": "ipython",
        "version": 3
      },
      "file_extension": ".py",
      "mimetype": "text/x-python",
      "name": "python",
      "nbconvert_exporter": "python",
      "pygments_lexer": "ipython3",
      "version": "3.11.3"
    },
    "vscode": {
      "interpreter": {
        "hash": "aee8b7b246df8f9039afb4144a1f6fd8d2ca17a180786b69acc140d282b71a49"
      }
    }
  },
  "nbformat": 4,
  "nbformat_minor": 0
}